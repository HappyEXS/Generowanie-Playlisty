{
 "cells": [
  {
   "cell_type": "code",
   "execution_count": 1,
   "metadata": {},
   "outputs": [],
   "source": [
    "from models.userProfileModel import UserProfileModel\r\n",
    "from data.loadData import *\r\n",
    "from data.dataFunctions import (\r\n",
    "    get_played_songs_for_user_id,\r\n",
    "    get_songs_by_traks_ids,\r\n",
    "    get_played_tracks,\r\n",
    ")\r\n",
    "from sklearn.model_selection import train_test_split\r\n",
    "\r\n",
    "users = load_users()\r\n",
    "tracks = load_tracks()\r\n",
    "sessions = load_sessions()\r\n",
    "\r\n",
    "model = UserProfileModel()\r\n",
    "model.fit(users, tracks, sessions)\r\n"
   ]
  },
  {
   "cell_type": "markdown",
   "metadata": {},
   "source": [
    "## Example 1"
   ]
  },
  {
   "cell_type": "code",
   "execution_count": 2,
   "metadata": {},
   "outputs": [
    {
     "data": {
      "text/html": "<div>\n<style scoped>\n    .dataframe tbody tr th:only-of-type {\n        vertical-align: middle;\n    }\n\n    .dataframe tbody tr th {\n        vertical-align: top;\n    }\n\n    .dataframe thead th {\n        text-align: right;\n    }\n</style>\n<table border=\"1\" class=\"dataframe\">\n  <thead>\n    <tr style=\"text-align: right;\">\n      <th></th>\n      <th>Title - Artist</th>\n    </tr>\n  </thead>\n  <tbody>\n    <tr>\n      <th>0</th>\n      <td>\"Tutuklu\" - Sezen Aksu</td>\n    </tr>\n    <tr>\n      <th>1</th>\n      <td>\"American Pie\" - Madonna</td>\n    </tr>\n    <tr>\n      <th>2</th>\n      <td>\"pink skies\" - LANY</td>\n    </tr>\n    <tr>\n      <th>3</th>\n      <td>\"2 Become 1\" - Spice Girls</td>\n    </tr>\n    <tr>\n      <th>4</th>\n      <td>\"The Good Stuff\" - Kenny Chesney</td>\n    </tr>\n    <tr>\n      <th>5</th>\n      <td>\"Private Dancer - Single Edit\" - Tina Turner</td>\n    </tr>\n    <tr>\n      <th>6</th>\n      <td>\"unendlichkeit - Main Edit\" - Cro</td>\n    </tr>\n    <tr>\n      <th>7</th>\n      <td>\"West Coast\" - Lana Del Rey</td>\n    </tr>\n    <tr>\n      <th>8</th>\n      <td>\"Pastillas para Dormir\" - Estopa</td>\n    </tr>\n    <tr>\n      <th>9</th>\n      <td>\"Mente Positiva\" - Junior H</td>\n    </tr>\n    <tr>\n      <th>10</th>\n      <td>\"Burnin' It Down\" - Jason Aldean</td>\n    </tr>\n    <tr>\n      <th>11</th>\n      <td>\"Cuándo\" - Ricardo Arjona</td>\n    </tr>\n    <tr>\n      <th>12</th>\n      <td>\"Anamız Babamız Yok Deriz\" - Dolu Kadehi Ters Tut</td>\n    </tr>\n    <tr>\n      <th>13</th>\n      <td>\"Tag, You're It\" - Melanie Martinez</td>\n    </tr>\n    <tr>\n      <th>14</th>\n      <td>\"We're Going Home\" - Vance Joy</td>\n    </tr>\n    <tr>\n      <th>15</th>\n      <td>\"Aún me amas\" - Beret</td>\n    </tr>\n    <tr>\n      <th>16</th>\n      <td>\"Fantasy - Single Version\" - Earth, Wind &amp; Fire</td>\n    </tr>\n    <tr>\n      <th>17</th>\n      <td>\"Spinning Around\" - Kylie Minogue</td>\n    </tr>\n    <tr>\n      <th>18</th>\n      <td>\"Besame Mucho\" - Luis Miguel</td>\n    </tr>\n    <tr>\n      <th>19</th>\n      <td>\"Kleur\" - Snelle</td>\n    </tr>\n  </tbody>\n</table>\n</div>",
      "text/plain": "                                       Title - Artist\n0                              \"Tutuklu\" - Sezen Aksu\n1                            \"American Pie\" - Madonna\n2                                 \"pink skies\" - LANY\n3                          \"2 Become 1\" - Spice Girls\n4                    \"The Good Stuff\" - Kenny Chesney\n5        \"Private Dancer - Single Edit\" - Tina Turner\n6                   \"unendlichkeit - Main Edit\" - Cro\n7                         \"West Coast\" - Lana Del Rey\n8                    \"Pastillas para Dormir\" - Estopa\n9                         \"Mente Positiva\" - Junior H\n10                   \"Burnin' It Down\" - Jason Aldean\n11                          \"Cuándo\" - Ricardo Arjona\n12  \"Anamız Babamız Yok Deriz\" - Dolu Kadehi Ters Tut\n13                \"Tag, You're It\" - Melanie Martinez\n14                     \"We're Going Home\" - Vance Joy\n15                              \"Aún me amas\" - Beret\n16    \"Fantasy - Single Version\" - Earth, Wind & Fire\n17                  \"Spinning Around\" - Kylie Minogue\n18                       \"Besame Mucho\" - Luis Miguel\n19                                   \"Kleur\" - Snelle"
     },
     "execution_count": 2,
     "metadata": {},
     "output_type": "execute_result"
    }
   ],
   "source": [
    "test_users = [101]\r\n",
    "\r\n",
    "songs = model.getPlaylist(test_users, 20)\r\n",
    "\r\n",
    "songs_names = get_songs_by_traks_ids(songs)\r\n",
    "pd.DataFrame(data=songs_names, columns=[\"Title - Artist\"])\r\n"
   ]
  },
  {
   "cell_type": "markdown",
   "metadata": {},
   "source": [
    "## Example 2"
   ]
  },
  {
   "cell_type": "code",
   "execution_count": 3,
   "metadata": {},
   "outputs": [
    {
     "data": {
      "text/html": "<div>\n<style scoped>\n    .dataframe tbody tr th:only-of-type {\n        vertical-align: middle;\n    }\n\n    .dataframe tbody tr th {\n        vertical-align: top;\n    }\n\n    .dataframe thead th {\n        text-align: right;\n    }\n</style>\n<table border=\"1\" class=\"dataframe\">\n  <thead>\n    <tr style=\"text-align: right;\">\n      <th></th>\n      <th>Title - Artist</th>\n    </tr>\n  </thead>\n  <tbody>\n    <tr>\n      <th>0</th>\n      <td>\"Pastillas para Dormir\" - Estopa</td>\n    </tr>\n    <tr>\n      <th>1</th>\n      <td>\"The Good Stuff\" - Kenny Chesney</td>\n    </tr>\n    <tr>\n      <th>2</th>\n      <td>\"Day 1 ◑\" - HONNE</td>\n    </tr>\n    <tr>\n      <th>3</th>\n      <td>\"Tutuklu\" - Sezen Aksu</td>\n    </tr>\n    <tr>\n      <th>4</th>\n      <td>\"Pontes Indestrutíveis\" - Charlie Brown Jr.</td>\n    </tr>\n    <tr>\n      <th>5</th>\n      <td>\"unendlichkeit - Main Edit\" - Cro</td>\n    </tr>\n    <tr>\n      <th>6</th>\n      <td>\"Elle\" - Djadja &amp; Dinaz</td>\n    </tr>\n    <tr>\n      <th>7</th>\n      <td>\"Let You Down\" - NF</td>\n    </tr>\n    <tr>\n      <th>8</th>\n      <td>\"Lost\" - Dermot Kennedy</td>\n    </tr>\n    <tr>\n      <th>9</th>\n      <td>\"pink skies\" - LANY</td>\n    </tr>\n  </tbody>\n</table>\n</div>",
      "text/plain": "                                Title - Artist\n0             \"Pastillas para Dormir\" - Estopa\n1             \"The Good Stuff\" - Kenny Chesney\n2                            \"Day 1 ◑\" - HONNE\n3                       \"Tutuklu\" - Sezen Aksu\n4  \"Pontes Indestrutíveis\" - Charlie Brown Jr.\n5            \"unendlichkeit - Main Edit\" - Cro\n6                      \"Elle\" - Djadja & Dinaz\n7                          \"Let You Down\" - NF\n8                      \"Lost\" - Dermot Kennedy\n9                          \"pink skies\" - LANY"
     },
     "execution_count": 3,
     "metadata": {},
     "output_type": "execute_result"
    }
   ],
   "source": [
    "test_users = [111, 112, 113, 114]\r\n",
    "\r\n",
    "songs = model.getPlaylist(test_users)\r\n",
    "\r\n",
    "songs_names = get_songs_by_traks_ids(songs)\r\n",
    "pd.DataFrame(data=songs_names, columns=[\"Title - Artist\"])\r\n"
   ]
  },
  {
   "cell_type": "markdown",
   "metadata": {},
   "source": [
    "## Example 3"
   ]
  },
  {
   "cell_type": "code",
   "execution_count": 4,
   "metadata": {},
   "outputs": [
    {
     "data": {
      "text/html": "<div>\n<style scoped>\n    .dataframe tbody tr th:only-of-type {\n        vertical-align: middle;\n    }\n\n    .dataframe tbody tr th {\n        vertical-align: top;\n    }\n\n    .dataframe thead th {\n        text-align: right;\n    }\n</style>\n<table border=\"1\" class=\"dataframe\">\n  <thead>\n    <tr style=\"text-align: right;\">\n      <th></th>\n      <th>Title - Artist</th>\n      <th>distance</th>\n    </tr>\n  </thead>\n  <tbody>\n    <tr>\n      <th>0</th>\n      <td>\"The Good Stuff\" - Kenny Chesney</td>\n      <td>0.986570</td>\n    </tr>\n    <tr>\n      <th>1</th>\n      <td>\"Pastillas para Dormir\" - Estopa</td>\n      <td>0.986193</td>\n    </tr>\n    <tr>\n      <th>2</th>\n      <td>\"Tutuklu\" - Sezen Aksu</td>\n      <td>0.984215</td>\n    </tr>\n    <tr>\n      <th>3</th>\n      <td>\"pink skies\" - LANY</td>\n      <td>0.982180</td>\n    </tr>\n    <tr>\n      <th>4</th>\n      <td>\"unendlichkeit - Main Edit\" - Cro</td>\n      <td>0.981880</td>\n    </tr>\n    <tr>\n      <th>5</th>\n      <td>\"Angel Of Small Death &amp; The Codeine Scene\" - H...</td>\n      <td>0.981496</td>\n    </tr>\n    <tr>\n      <th>6</th>\n      <td>\"Lost\" - Dermot Kennedy</td>\n      <td>0.981434</td>\n    </tr>\n    <tr>\n      <th>7</th>\n      <td>\"Tag, You're It\" - Melanie Martinez</td>\n      <td>0.981406</td>\n    </tr>\n    <tr>\n      <th>8</th>\n      <td>\"Two Worlds\" - Phil Collins</td>\n      <td>0.981386</td>\n    </tr>\n    <tr>\n      <th>9</th>\n      <td>\"Let You Down\" - NF</td>\n      <td>0.981273</td>\n    </tr>\n    <tr>\n      <th>10</th>\n      <td>\"C63\" - Djadja &amp; Dinaz</td>\n      <td>0.981051</td>\n    </tr>\n    <tr>\n      <th>11</th>\n      <td>\"Day 1 ◑\" - HONNE</td>\n      <td>0.980654</td>\n    </tr>\n    <tr>\n      <th>12</th>\n      <td>\"The Good Stuff\" - Kenny Chesney</td>\n      <td>0.980518</td>\n    </tr>\n    <tr>\n      <th>13</th>\n      <td>\"Back In The Day\" - Erykah Badu</td>\n      <td>0.980416</td>\n    </tr>\n    <tr>\n      <th>14</th>\n      <td>\"Angel of Small Death and the Codeine Scene\" -...</td>\n      <td>0.980309</td>\n    </tr>\n    <tr>\n      <th>15</th>\n      <td>\"Street\" - Maes</td>\n      <td>0.980048</td>\n    </tr>\n    <tr>\n      <th>16</th>\n      <td>\"Elle\" - Djadja &amp; Dinaz</td>\n      <td>0.980005</td>\n    </tr>\n    <tr>\n      <th>17</th>\n      <td>\"772 Love\" - YNW Melly</td>\n      <td>0.979967</td>\n    </tr>\n    <tr>\n      <th>18</th>\n      <td>\"Por um Gole a Mais\" - Gusttavo Lima</td>\n      <td>0.979949</td>\n    </tr>\n    <tr>\n      <th>19</th>\n      <td>\"Inevitable\" - Shakira</td>\n      <td>0.979920</td>\n    </tr>\n  </tbody>\n</table>\n</div>",
      "text/plain": "                                       Title - Artist  distance\n0                    \"The Good Stuff\" - Kenny Chesney  0.986570\n1                    \"Pastillas para Dormir\" - Estopa  0.986193\n2                              \"Tutuklu\" - Sezen Aksu  0.984215\n3                                 \"pink skies\" - LANY  0.982180\n4                   \"unendlichkeit - Main Edit\" - Cro  0.981880\n5   \"Angel Of Small Death & The Codeine Scene\" - H...  0.981496\n6                             \"Lost\" - Dermot Kennedy  0.981434\n7                 \"Tag, You're It\" - Melanie Martinez  0.981406\n8                         \"Two Worlds\" - Phil Collins  0.981386\n9                                 \"Let You Down\" - NF  0.981273\n10                             \"C63\" - Djadja & Dinaz  0.981051\n11                                  \"Day 1 ◑\" - HONNE  0.980654\n12                   \"The Good Stuff\" - Kenny Chesney  0.980518\n13                    \"Back In The Day\" - Erykah Badu  0.980416\n14  \"Angel of Small Death and the Codeine Scene\" -...  0.980309\n15                                    \"Street\" - Maes  0.980048\n16                            \"Elle\" - Djadja & Dinaz  0.980005\n17                             \"772 Love\" - YNW Melly  0.979967\n18               \"Por um Gole a Mais\" - Gusttavo Lima  0.979949\n19                             \"Inevitable\" - Shakira  0.979920"
     },
     "execution_count": 4,
     "metadata": {},
     "output_type": "execute_result"
    }
   ],
   "source": [
    "test_users = [421, 542, 412, 324, 241]\r\n",
    "\r\n",
    "songs = model.getPlaylist_with_ranks(test_users, 20)\r\n",
    "\r\n",
    "song_ids = [x[1] for x in songs]\r\n",
    "songs_names = get_songs_by_traks_ids(song_ids)\r\n",
    "names_with_dsitance = [\r\n",
    "    (songs_names[i], songs[i][0]) for i in range(len(song_ids))\r\n",
    "]\r\n",
    "pd.DataFrame(data=names_with_dsitance, columns=[\"Title - Artist\", \"distance\"])\r\n"
   ]
  }
 ],
 "metadata": {
  "kernelspec": {
   "display_name": "Python 3.10.4 64-bit",
   "name": "python3104jvsc74a57bd02be5faf79681da6f2a61fdfdd5405d65d042280f7fba6178067603e3a2925119"
  },
  "language_info": {
   "codemirror_mode": {
    "name": "ipython",
    "version": 3
   },
   "file_extension": ".py",
   "mimetype": "text/x-python",
   "name": "python",
   "nbconvert_exporter": "python",
   "pygments_lexer": "ipython3",
   "version": "3.10.4"
  },
  "metadata": {
   "interpreter": {
    "hash": "2be5faf79681da6f2a61fdfdd5405d65d042280f7fba6178067603e3a2925119"
   }
  },
  "orig_nbformat": 2
 },
 "nbformat": 4,
 "nbformat_minor": 2
}