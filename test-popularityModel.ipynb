{
 "cells": [
  {
   "cell_type": "code",
   "execution_count": 1,
   "metadata": {},
   "outputs": [],
   "source": [
    "from models.popularityModel import PopularityModel\r\n",
    "from data.loadData import *\r\n",
    "from data.dataFunctions import (\r\n",
    "    get_played_songs_for_user_id,\r\n",
    "    get_songs_by_traks_ids,\r\n",
    "    get_played_tracks,\r\n",
    "    find_random_n_track_ids,\r\n",
    ")\r\n",
    "from sklearn.model_selection import train_test_split\r\n",
    "\r\n",
    "users = load_users()\r\n",
    "tracks = load_tracks()\r\n",
    "artists = load_artists()\r\n",
    "\r\n",
    "model = PopularityModel()\r\n",
    "model.fit(users, tracks, artists)\r\n"
   ]
  },
  {
   "cell_type": "markdown",
   "metadata": {},
   "source": [
    "## Example 1"
   ]
  },
  {
   "cell_type": "code",
   "execution_count": 2,
   "metadata": {},
   "outputs": [
    {
     "data": {
      "text/html": "<div>\n<style scoped>\n    .dataframe tbody tr th:only-of-type {\n        vertical-align: middle;\n    }\n\n    .dataframe tbody tr th {\n        vertical-align: top;\n    }\n\n    .dataframe thead th {\n        text-align: right;\n    }\n</style>\n<table border=\"1\" class=\"dataframe\">\n  <thead>\n    <tr style=\"text-align: right;\">\n      <th></th>\n      <th>Title - Artist</th>\n    </tr>\n  </thead>\n  <tbody>\n    <tr>\n      <th>0</th>\n      <td>\"drivers license\" - Olivia Rodrigo</td>\n    </tr>\n    <tr>\n      <th>1</th>\n      <td>\"Astronaut In The Ocean\" - Masked Wolf</td>\n    </tr>\n    <tr>\n      <th>2</th>\n      <td>\"Save Your Tears\" - The Weeknd</td>\n    </tr>\n    <tr>\n      <th>3</th>\n      <td>\"telepatía\" - Kali Uchis</td>\n    </tr>\n    <tr>\n      <th>4</th>\n      <td>\"Blinding Lights\" - The Weeknd</td>\n    </tr>\n    <tr>\n      <th>5</th>\n      <td>\"The Business\" - Tiësto</td>\n    </tr>\n    <tr>\n      <th>6</th>\n      <td>\"Streets\" - Doja Cat</td>\n    </tr>\n    <tr>\n      <th>7</th>\n      <td>\"Heartbreak Anniversary\" - Giveon</td>\n    </tr>\n    <tr>\n      <th>8</th>\n      <td>\"WITHOUT YOU\" - The Kid LAROI</td>\n    </tr>\n    <tr>\n      <th>9</th>\n      <td>\"Up\" - Cardi B</td>\n    </tr>\n    <tr>\n      <th>10</th>\n      <td>\"Wish You Were Here\" - Pink Floyd</td>\n    </tr>\n    <tr>\n      <th>11</th>\n      <td>\"Another Brick in the Wall, Pt. 2\" - Pink Floyd</td>\n    </tr>\n    <tr>\n      <th>12</th>\n      <td>\"What’s Next\" - Drake</td>\n    </tr>\n    <tr>\n      <th>13</th>\n      <td>\"Comfortably Numb\" - Pink Floyd</td>\n    </tr>\n    <tr>\n      <th>14</th>\n      <td>\"Good Days\" - SZA</td>\n    </tr>\n    <tr>\n      <th>15</th>\n      <td>\"You Really Got Me - Mono Mix\" - The Kinks</td>\n    </tr>\n    <tr>\n      <th>16</th>\n      <td>\"Reelin' In The Years\" - Steely Dan</td>\n    </tr>\n    <tr>\n      <th>17</th>\n      <td>\"Money\" - Pink Floyd</td>\n    </tr>\n    <tr>\n      <th>18</th>\n      <td>\"Lola\" - The Kinks</td>\n    </tr>\n    <tr>\n      <th>19</th>\n      <td>\"Do It Again\" - Steely Dan</td>\n    </tr>\n  </tbody>\n</table>\n</div>",
      "text/plain": "                                     Title - Artist\n0                \"drivers license\" - Olivia Rodrigo\n1            \"Astronaut In The Ocean\" - Masked Wolf\n2                    \"Save Your Tears\" - The Weeknd\n3                          \"telepatía\" - Kali Uchis\n4                    \"Blinding Lights\" - The Weeknd\n5                           \"The Business\" - Tiësto\n6                              \"Streets\" - Doja Cat\n7                 \"Heartbreak Anniversary\" - Giveon\n8                     \"WITHOUT YOU\" - The Kid LAROI\n9                                    \"Up\" - Cardi B\n10                \"Wish You Were Here\" - Pink Floyd\n11  \"Another Brick in the Wall, Pt. 2\" - Pink Floyd\n12                            \"What’s Next\" - Drake\n13                  \"Comfortably Numb\" - Pink Floyd\n14                                \"Good Days\" - SZA\n15       \"You Really Got Me - Mono Mix\" - The Kinks\n16              \"Reelin' In The Years\" - Steely Dan\n17                             \"Money\" - Pink Floyd\n18                               \"Lola\" - The Kinks\n19                       \"Do It Again\" - Steely Dan"
     },
     "execution_count": 2,
     "metadata": {},
     "output_type": "execute_result"
    }
   ],
   "source": [
    "test_users = [103, 104]\r\n",
    "\r\n",
    "songs = model.getPlaylist(test_users, 20)\r\n",
    "\r\n",
    "songs_names = get_songs_by_traks_ids(songs)\r\n",
    "pd.DataFrame(data=songs_names, columns=[\"Title - Artist\"])\r\n"
   ]
  },
  {
   "cell_type": "markdown",
   "metadata": {},
   "source": [
    "## Example 2"
   ]
  },
  {
   "cell_type": "code",
   "execution_count": 3,
   "metadata": {},
   "outputs": [
    {
     "data": {
      "text/html": "<div>\n<style scoped>\n    .dataframe tbody tr th:only-of-type {\n        vertical-align: middle;\n    }\n\n    .dataframe tbody tr th {\n        vertical-align: top;\n    }\n\n    .dataframe thead th {\n        text-align: right;\n    }\n</style>\n<table border=\"1\" class=\"dataframe\">\n  <thead>\n    <tr style=\"text-align: right;\">\n      <th></th>\n      <th>Title - Artist</th>\n    </tr>\n  </thead>\n  <tbody>\n    <tr>\n      <th>0</th>\n      <td>\"drivers license\" - Olivia Rodrigo</td>\n    </tr>\n    <tr>\n      <th>1</th>\n      <td>\"Astronaut In The Ocean\" - Masked Wolf</td>\n    </tr>\n    <tr>\n      <th>2</th>\n      <td>\"Save Your Tears\" - The Weeknd</td>\n    </tr>\n    <tr>\n      <th>3</th>\n      <td>\"telepatía\" - Kali Uchis</td>\n    </tr>\n    <tr>\n      <th>4</th>\n      <td>\"Blinding Lights\" - The Weeknd</td>\n    </tr>\n    <tr>\n      <th>5</th>\n      <td>\"The Business\" - Tiësto</td>\n    </tr>\n    <tr>\n      <th>6</th>\n      <td>\"Streets\" - Doja Cat</td>\n    </tr>\n    <tr>\n      <th>7</th>\n      <td>\"Heartbreak Anniversary\" - Giveon</td>\n    </tr>\n    <tr>\n      <th>8</th>\n      <td>\"WITHOUT YOU\" - The Kid LAROI</td>\n    </tr>\n    <tr>\n      <th>9</th>\n      <td>\"Good Days\" - SZA</td>\n    </tr>\n  </tbody>\n</table>\n</div>",
      "text/plain": "                           Title - Artist\n0      \"drivers license\" - Olivia Rodrigo\n1  \"Astronaut In The Ocean\" - Masked Wolf\n2          \"Save Your Tears\" - The Weeknd\n3                \"telepatía\" - Kali Uchis\n4          \"Blinding Lights\" - The Weeknd\n5                 \"The Business\" - Tiësto\n6                    \"Streets\" - Doja Cat\n7       \"Heartbreak Anniversary\" - Giveon\n8           \"WITHOUT YOU\" - The Kid LAROI\n9                       \"Good Days\" - SZA"
     },
     "execution_count": 3,
     "metadata": {},
     "output_type": "execute_result"
    }
   ],
   "source": [
    "test_users = [120, 121, 122, 123]\r\n",
    "\r\n",
    "songs = model.getPlaylist(test_users)\r\n",
    "\r\n",
    "songs_names = get_songs_by_traks_ids(songs)\r\n",
    "pd.DataFrame(data=songs_names, columns=[\"Title - Artist\"])\r\n"
   ]
  },
  {
   "cell_type": "markdown",
   "metadata": {},
   "source": [
    "## Example 3"
   ]
  },
  {
   "cell_type": "code",
   "execution_count": 4,
   "metadata": {},
   "outputs": [
    {
     "data": {
      "text/html": "<div>\n<style scoped>\n    .dataframe tbody tr th:only-of-type {\n        vertical-align: middle;\n    }\n\n    .dataframe tbody tr th {\n        vertical-align: top;\n    }\n\n    .dataframe thead th {\n        text-align: right;\n    }\n</style>\n<table border=\"1\" class=\"dataframe\">\n  <thead>\n    <tr style=\"text-align: right;\">\n      <th></th>\n      <th>Title - Artist</th>\n      <th>popularity</th>\n    </tr>\n  </thead>\n  <tbody>\n    <tr>\n      <th>0</th>\n      <td>\"drivers license\" - Olivia Rodrigo</td>\n      <td>98.998437</td>\n    </tr>\n    <tr>\n      <th>1</th>\n      <td>\"Astronaut In The Ocean\" - Masked Wolf</td>\n      <td>97.996875</td>\n    </tr>\n    <tr>\n      <th>2</th>\n      <td>\"Save Your Tears\" - The Weeknd</td>\n      <td>96.995312</td>\n    </tr>\n    <tr>\n      <th>3</th>\n      <td>\"telepatía\" - Kali Uchis</td>\n      <td>96.995312</td>\n    </tr>\n    <tr>\n      <th>4</th>\n      <td>\"Blinding Lights\" - The Weeknd</td>\n      <td>95.993750</td>\n    </tr>\n    <tr>\n      <th>5</th>\n      <td>\"The Business\" - Tiësto</td>\n      <td>94.992188</td>\n    </tr>\n    <tr>\n      <th>6</th>\n      <td>\"Streets\" - Doja Cat</td>\n      <td>94.178125</td>\n    </tr>\n    <tr>\n      <th>7</th>\n      <td>\"Heartbreak Anniversary\" - Giveon</td>\n      <td>93.990625</td>\n    </tr>\n    <tr>\n      <th>8</th>\n      <td>\"WITHOUT YOU\" - The Kid LAROI</td>\n      <td>93.990625</td>\n    </tr>\n    <tr>\n      <th>9</th>\n      <td>\"Good Days\" - SZA</td>\n      <td>93.207813</td>\n    </tr>\n    <tr>\n      <th>10</th>\n      <td>\"Up\" - Cardi B</td>\n      <td>92.237500</td>\n    </tr>\n    <tr>\n      <th>11</th>\n      <td>\"Watermelon Sugar\" - Harry Styles</td>\n      <td>91.987500</td>\n    </tr>\n    <tr>\n      <th>12</th>\n      <td>\"positions\" - Ariana Grande</td>\n      <td>91.987500</td>\n    </tr>\n    <tr>\n      <th>13</th>\n      <td>\"Hold On\" - Justin Bieber</td>\n      <td>91.987500</td>\n    </tr>\n    <tr>\n      <th>14</th>\n      <td>\"What’s Next\" - Drake</td>\n      <td>91.407813</td>\n    </tr>\n    <tr>\n      <th>15</th>\n      <td>\"BICHOTA\" - KAROL G</td>\n      <td>91.126563</td>\n    </tr>\n    <tr>\n      <th>16</th>\n      <td>\"911\" - Sech</td>\n      <td>91.126563</td>\n    </tr>\n    <tr>\n      <th>17</th>\n      <td>\"Dynamite\" - BTS</td>\n      <td>90.985938</td>\n    </tr>\n    <tr>\n      <th>18</th>\n      <td>\"you broke me first\" - Tate McRae</td>\n      <td>90.985938</td>\n    </tr>\n    <tr>\n      <th>19</th>\n      <td>\"34+35\" - Ariana Grande</td>\n      <td>90.985938</td>\n    </tr>\n  </tbody>\n</table>\n</div>",
      "text/plain": "                            Title - Artist  popularity\n0       \"drivers license\" - Olivia Rodrigo   98.998437\n1   \"Astronaut In The Ocean\" - Masked Wolf   97.996875\n2           \"Save Your Tears\" - The Weeknd   96.995312\n3                 \"telepatía\" - Kali Uchis   96.995312\n4           \"Blinding Lights\" - The Weeknd   95.993750\n5                  \"The Business\" - Tiësto   94.992188\n6                     \"Streets\" - Doja Cat   94.178125\n7        \"Heartbreak Anniversary\" - Giveon   93.990625\n8            \"WITHOUT YOU\" - The Kid LAROI   93.990625\n9                        \"Good Days\" - SZA   93.207813\n10                          \"Up\" - Cardi B   92.237500\n11       \"Watermelon Sugar\" - Harry Styles   91.987500\n12             \"positions\" - Ariana Grande   91.987500\n13               \"Hold On\" - Justin Bieber   91.987500\n14                   \"What’s Next\" - Drake   91.407813\n15                     \"BICHOTA\" - KAROL G   91.126563\n16                            \"911\" - Sech   91.126563\n17                        \"Dynamite\" - BTS   90.985938\n18       \"you broke me first\" - Tate McRae   90.985938\n19                 \"34+35\" - Ariana Grande   90.985938"
     },
     "execution_count": 4,
     "metadata": {},
     "output_type": "execute_result"
    }
   ],
   "source": [
    "test_users = [220, 221, 222, 223]\r\n",
    "\r\n",
    "songs = model.getPlaylist_with_ranks(test_users, 20)\r\n",
    "\r\n",
    "song_ids = [x[\"id\"] for x in songs]\r\n",
    "songs_names = get_songs_by_traks_ids(song_ids)\r\n",
    "names_with_dsitance = [\r\n",
    "    (songs_names[i], songs[i][\"popularity\"]) for i in range(len(song_ids))\r\n",
    "]\r\n",
    "pd.DataFrame(data=names_with_dsitance, columns=[\"Title - Artist\", \"popularity\"])\r\n"
   ]
  }
 ],
 "metadata": {
  "kernelspec": {
   "display_name": "Python 3.10.4 64-bit",
   "name": "python3104jvsc74a57bd02be5faf79681da6f2a61fdfdd5405d65d042280f7fba6178067603e3a2925119"
  },
  "language_info": {
   "codemirror_mode": {
    "name": "ipython",
    "version": 3
   },
   "file_extension": ".py",
   "mimetype": "text/x-python",
   "name": "python",
   "nbconvert_exporter": "python",
   "pygments_lexer": "ipython3",
   "version": "3.10.4"
  },
  "metadata": {
   "interpreter": {
    "hash": "2be5faf79681da6f2a61fdfdd5405d65d042280f7fba6178067603e3a2925119"
   }
  },
  "orig_nbformat": 2
 },
 "nbformat": 4,
 "nbformat_minor": 2
}