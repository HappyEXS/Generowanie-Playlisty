{
 "cells": [
  {
   "cell_type": "code",
   "execution_count": 1,
   "metadata": {},
   "outputs": [],
   "source": [
    "from models.userProfileModel import UserProfileModel\r\n",
    "from models.popularityModel import PopularityModel\r\n",
    "from models.targetModel import TargetModel\r\n",
    "from data.loadData import *\r\n",
    "from data.dataFunctions import get_played_songs_for_user_id, get_songs_by_traks_ids, get_played_tracks, find_random_n_track_ids\r\n",
    "from sklearn.model_selection import train_test_split\r\n",
    "from tqdm import tqdm"
   ]
  },
  {
   "cell_type": "markdown",
   "metadata": {},
   "source": [
    "# Less track params for user profile model"
   ]
  },
  {
   "cell_type": "code",
   "execution_count": 2,
   "metadata": {},
   "outputs": [],
   "source": [
    "TEST_SET = 0.3\r\n",
    "N = 10\r\n",
    "\r\n",
    "users = load_users()\r\n",
    "tracks = load_tracks()\r\n",
    "tracks_less = load_tracks_less()\r\n",
    "artists = load_artists()\r\n",
    "\r\n",
    "sessions = load_sessions()\r\n",
    "sessions_train, sessions_test = train_test_split(\r\n",
    "    sessions.values, test_size=TEST_SET\r\n",
    ")\r\n",
    "sessions_train = pd.DataFrame(\r\n",
    "    data=sessions_train, columns=[\"user_id\", \"track_id\", \"event\"]\r\n",
    ")\r\n",
    "sessions_test = pd.DataFrame(\r\n",
    "    data=sessions_test, columns=[\"user_id\", \"track_id\", \"event\"]\r\n",
    ")"
   ]
  },
  {
   "cell_type": "code",
   "execution_count": 3,
   "metadata": {},
   "outputs": [],
   "source": [
    "userProfilemodel = UserProfileModel()\r\n",
    "userProfilemodel.fit(users, tracks, sessions_train)\r\n",
    "\r\n",
    "userProfilemodel_less = UserProfileModel()\r\n",
    "userProfilemodel_less.fit(users, tracks_less, sessions_train)"
   ]
  },
  {
   "cell_type": "code",
   "execution_count": 6,
   "metadata": {},
   "outputs": [
    {
     "name": "stderr",
     "output_type": "stream",
     "text": [
      "100%|██████████| 205/205 [16:02<00:00,  4.70s/it]\n",
      "100%|██████████| 384/384 [44:12<00:00,  6.91s/it]\n",
      "100%|██████████| 436/436 [34:35<00:00,  4.76s/it]\n",
      "100%|██████████| 47/47 [02:00<00:00,  2.57s/it]"
     ]
    },
    {
     "name": "stdout",
     "output_type": "stream",
     "text": [
      "================= All params =================\n",
      "average position:  49.91\n",
      "in top 10: 114 times\n",
      "recall@10: 10.63 %\n",
      "================= Less params =================\n",
      "average position:  51.29\n",
      "in top 10: 110 times\n",
      "recall@10: 10.26 %\n"
     ]
    },
    {
     "name": "stderr",
     "output_type": "stream",
     "text": [
      "\n"
     ]
    }
   ],
   "source": [
    "ALL_USERS = [\r\n",
    "    [514, 281],\r\n",
    "    [475, 386, 476],\r\n",
    "    [317, 391],\r\n",
    "    [299]\r\n",
    "]\r\n",
    "\r\n",
    "all_tracks_played = 0\r\n",
    "avg_position, avg_position_less = 0, 0\r\n",
    "in_best_n, in_best_n_less = 0, 0\r\n",
    "\r\n",
    "for USERS in ALL_USERS:\r\n",
    "    tracks_played_in_future = get_played_tracks(USERS, sessions_test)\r\n",
    "    all_tracks_played += len(tracks_played_in_future)\r\n",
    "\r\n",
    "    for examle_track_id in tqdm(tracks_played_in_future):\r\n",
    "\r\n",
    "        evaluation_tracks = [examle_track_id]\r\n",
    "        evaluation_tracks.extend(find_random_n_track_ids(100))\r\n",
    "\r\n",
    "        ranked_songs = userProfilemodel.rank_tracks_for_users(\r\n",
    "            USERS, evaluation_tracks\r\n",
    "        )\r\n",
    "        ranked_songs_less = userProfilemodel_less.rank_tracks_for_users(\r\n",
    "            USERS, evaluation_tracks\r\n",
    "        )\r\n",
    "\r\n",
    "        avg_position += ranked_songs.index(examle_track_id)\r\n",
    "        avg_position_less +=ranked_songs_less.index(examle_track_id)\r\n",
    "\r\n",
    "        if ranked_songs.index(examle_track_id) < N:\r\n",
    "            in_best_n += 1\r\n",
    "        if ranked_songs_less.index(examle_track_id) < N:\r\n",
    "            in_best_n_less += 1\r\n",
    "\r\n",
    "print(\"================= All params =================\")\r\n",
    "print(\r\n",
    "    \"average position: \", round(avg_position / all_tracks_played, 2)\r\n",
    ")\r\n",
    "print(f\"in top {N}: {in_best_n} times\")\r\n",
    "print(f\"recall@{N}: {round(in_best_n/all_tracks_played * 100, 2)} %\")\r\n",
    "\r\n",
    "print(\"================= Less params =================\")\r\n",
    "print(\r\n",
    "    \"average position: \", round(avg_position_less / all_tracks_played, 2)\r\n",
    ")\r\n",
    "print(f\"in top {N}: {in_best_n_less} times\")\r\n",
    "print(f\"recall@{N}: {round(in_best_n_less/all_tracks_played * 100, 2)} %\")\r\n"
   ]
  }
 ],
 "metadata": {
  "kernelspec": {
   "display_name": "Python 3.10.4 64-bit",
   "name": "python3104jvsc74a57bd02be5faf79681da6f2a61fdfdd5405d65d042280f7fba6178067603e3a2925119"
  },
  "language_info": {
   "name": "python",
   "version": ""
  },
  "metadata": {
   "interpreter": {
    "hash": "2be5faf79681da6f2a61fdfdd5405d65d042280f7fba6178067603e3a2925119"
   }
  },
  "orig_nbformat": 2
 },
 "nbformat": 4,
 "nbformat_minor": 2
}