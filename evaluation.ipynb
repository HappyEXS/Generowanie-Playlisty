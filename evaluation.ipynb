{
 "cells": [
  {
   "cell_type": "code",
   "execution_count": 1,
   "metadata": {},
   "outputs": [],
   "source": [
    "from models.userProfileModel import UserProfileModel\r\n",
    "from models.popularityModel import PopularityModel\r\n",
    "from models.targetModel import TargetModel\r\n",
    "from data.loadData import *\r\n",
    "from data.dataFunctions import get_played_songs_for_user_id, get_songs_by_traks_ids, get_played_tracks, find_random_n_track_ids\r\n",
    "from sklearn.model_selection import train_test_split\r\n",
    "from tqdm import tqdm"
   ]
  },
  {
   "cell_type": "code",
   "execution_count": 2,
   "metadata": {},
   "outputs": [],
   "source": [
    "TEST_SET = 0.3\r\n",
    "N = 10\r\n",
    "\r\n",
    "users = load_users()\r\n",
    "tracks = load_tracks()\r\n",
    "artists = load_artists()\r\n",
    "\r\n",
    "sessions = load_sessions()\r\n",
    "sessions_train, sessions_test = train_test_split(\r\n",
    "    sessions.values, test_size=TEST_SET\r\n",
    ")\r\n",
    "sessions_train = pd.DataFrame(\r\n",
    "    data=sessions_train, columns=[\"user_id\", \"track_id\", \"event\"]\r\n",
    ")\r\n",
    "sessions_test = pd.DataFrame(\r\n",
    "    data=sessions_test, columns=[\"user_id\", \"track_id\", \"event\"]\r\n",
    ")\r\n"
   ]
  },
  {
   "cell_type": "markdown",
   "metadata": {},
   "source": [
    "# User Profile Model Evaluation"
   ]
  },
  {
   "cell_type": "code",
   "execution_count": 3,
   "metadata": {},
   "outputs": [],
   "source": [
    "userProfilemodel = UserProfileModel()\r\n",
    "userProfilemodel.fit(users, tracks, sessions_train)\r\n"
   ]
  },
  {
   "cell_type": "code",
   "execution_count": 4,
   "metadata": {},
   "outputs": [
    {
     "name": "stderr",
     "output_type": "stream",
     "text": [
      "100%|██████████| 200/200 [08:21<00:00,  2.51s/it]"
     ]
    },
    {
     "name": "stdout",
     "output_type": "stream",
     "text": [
      "average position:  47.98\n",
      "in top 10: 26 times\n",
      "recall@10: 13.0 %\n"
     ]
    },
    {
     "name": "stderr",
     "output_type": "stream",
     "text": [
      "\n"
     ]
    }
   ],
   "source": [
    "USERS = [101, 102]\r\n",
    "\r\n",
    "tracks_played_in_future = get_played_tracks(USERS, sessions_test)\r\n",
    "avg_position = 0\r\n",
    "in_best_n = 0\r\n",
    "\r\n",
    "for examle_track_id in tqdm(tracks_played_in_future):\r\n",
    "    evaluation_tracks = [examle_track_id]\r\n",
    "    evaluation_tracks.extend(find_random_n_track_ids(100))\r\n",
    "\r\n",
    "    ranked_songs = userProfilemodel.rank_tracks_for_users(\r\n",
    "        USERS, evaluation_tracks\r\n",
    "    )\r\n",
    "    avg_position += ranked_songs.index(examle_track_id)\r\n",
    "    if ranked_songs.index(examle_track_id) < N:\r\n",
    "        in_best_n += 1\r\n",
    "\r\n",
    "print(\r\n",
    "    \"average position: \", round(avg_position / len(tracks_played_in_future), 2)\r\n",
    ")\r\n",
    "print(f\"in top {N}: {in_best_n} times\")\r\n",
    "print(f\"recall@{N}: {round(in_best_n/len(tracks_played_in_future) * 100, 2)} %\")\r\n"
   ]
  },
  {
   "cell_type": "markdown",
   "metadata": {},
   "source": [
    "# Popularity Model Evaluation"
   ]
  },
  {
   "cell_type": "code",
   "execution_count": 5,
   "metadata": {},
   "outputs": [],
   "source": [
    "popularityModel = PopularityModel()\r\n",
    "popularityModel.fit(users, tracks, artists)\r\n"
   ]
  },
  {
   "cell_type": "code",
   "execution_count": 6,
   "metadata": {},
   "outputs": [
    {
     "name": "stderr",
     "output_type": "stream",
     "text": [
      "100%|██████████| 120/120 [00:42<00:00,  2.84it/s]"
     ]
    },
    {
     "name": "stdout",
     "output_type": "stream",
     "text": [
      "average position:  42.1\n",
      "in top 10: 21 times\n",
      "recall@10: 17.5 %\n"
     ]
    },
    {
     "name": "stderr",
     "output_type": "stream",
     "text": [
      "\n"
     ]
    }
   ],
   "source": [
    "USERS = [241, 364]\r\n",
    "\r\n",
    "tracks_played_in_future = get_played_tracks(USERS, sessions_test)\r\n",
    "avg_position = 0\r\n",
    "in_best_n = 0\r\n",
    "\r\n",
    "for examle_track_id in tqdm(tracks_played_in_future):\r\n",
    "    evaluation_tracks = [examle_track_id]\r\n",
    "    evaluation_tracks.extend(find_random_n_track_ids(100))\r\n",
    "\r\n",
    "    ranked_songs = popularityModel.rank_tracks_for_users(\r\n",
    "        USERS, evaluation_tracks\r\n",
    "    )\r\n",
    "    avg_position += ranked_songs.index(examle_track_id)\r\n",
    "    if ranked_songs.index(examle_track_id) < N:\r\n",
    "        in_best_n += 1\r\n",
    "\r\n",
    "print(\r\n",
    "    \"average position: \", round(avg_position / len(tracks_played_in_future), 2)\r\n",
    ")\r\n",
    "print(f\"in top {N}: {in_best_n} times\")\r\n",
    "print(f\"recall@{N}: {round(in_best_n/len(tracks_played_in_future) * 100, 2)} %\")\r\n"
   ]
  },
  {
   "cell_type": "markdown",
   "metadata": {},
   "source": [
    "# Target Model - user profile + popularity"
   ]
  },
  {
   "cell_type": "code",
   "execution_count": 7,
   "metadata": {},
   "outputs": [],
   "source": [
    "targetModel = TargetModel()\r\n",
    "targetModel.fit(users, tracks, artists, sessions_train)\r\n"
   ]
  },
  {
   "cell_type": "code",
   "execution_count": 8,
   "metadata": {},
   "outputs": [
    {
     "name": "stderr",
     "output_type": "stream",
     "text": [
      "100%|██████████| 120/120 [04:56<00:00,  2.47s/it]"
     ]
    },
    {
     "name": "stdout",
     "output_type": "stream",
     "text": [
      "average position:  45.09\n",
      "in top 10: 19 times\n",
      "recall@10: 15.83 %\n"
     ]
    },
    {
     "name": "stderr",
     "output_type": "stream",
     "text": [
      "\n"
     ]
    }
   ],
   "source": [
    "USERS = [241, 364]\r\n",
    "\r\n",
    "tracks_played_in_future = get_played_tracks(USERS, sessions_test)\r\n",
    "avg_position = 0\r\n",
    "in_best_n = 0\r\n",
    "\r\n",
    "for examle_track_id in tqdm(tracks_played_in_future):\r\n",
    "    evaluation_tracks = [examle_track_id]\r\n",
    "    evaluation_tracks.extend(find_random_n_track_ids(100))\r\n",
    "\r\n",
    "    ranked_songs = targetModel.rank_tracks_for_users(USERS, evaluation_tracks)\r\n",
    "    avg_position += ranked_songs.index(examle_track_id)\r\n",
    "    if ranked_songs.index(examle_track_id) < N:\r\n",
    "        in_best_n += 1\r\n",
    "\r\n",
    "print(\r\n",
    "    \"average position: \", round(avg_position / len(tracks_played_in_future), 2)\r\n",
    ")\r\n",
    "print(f\"in top {N}: {in_best_n} times\")\r\n",
    "print(f\"recall@{N}: {round(in_best_n/len(tracks_played_in_future) * 100, 2)} %\")\r\n"
   ]
  },
  {
   "cell_type": "markdown",
   "metadata": {},
   "source": [
    "# Comparison - Average results"
   ]
  },
  {
   "cell_type": "code",
   "execution_count": 9,
   "metadata": {},
   "outputs": [],
   "source": [
    "userProfilemodel = UserProfileModel()\r\n",
    "userProfilemodel.fit(users, tracks, sessions_train)\r\n",
    "\r\n",
    "popularityModel = PopularityModel()\r\n",
    "popularityModel.fit(users, tracks, artists)\r\n",
    "\r\n",
    "targetModel = TargetModel()\r\n",
    "targetModel.fit(users, tracks, artists, sessions_train)\r\n"
   ]
  },
  {
   "cell_type": "code",
   "execution_count": 10,
   "metadata": {},
   "outputs": [
    {
     "name": "stderr",
     "output_type": "stream",
     "text": [
      "100%|██████████| 432/432 [49:33<00:00,  6.88s/it]\n",
      "100%|██████████| 200/200 [15:43<00:00,  4.72s/it]\n",
      "100%|██████████| 353/353 [40:44<00:00,  6.93s/it]\n",
      "100%|██████████| 445/445 [34:16<00:00,  4.62s/it]\n",
      "100%|██████████| 60/60 [02:27<00:00,  2.46s/it]"
     ]
    },
    {
     "name": "stdout",
     "output_type": "stream",
     "text": [
      "================= Popularity Model =================\n",
      "average position:  48.45\n",
      "in top 10: 164 times\n",
      "recall@10: 11.01 %\n",
      "================ User Profile Model ================\n",
      "average position:  49.39\n",
      "in top 10: 147 times\n",
      "recall@10: 9.87 %\n",
      "=================== Target Model ===================\n",
      "average position:  50.26\n",
      "in top 10: 154 times\n",
      "recall@10: 10.34 %\n"
     ]
    },
    {
     "name": "stderr",
     "output_type": "stream",
     "text": [
      "\n"
     ]
    }
   ],
   "source": [
    "ALL_USERS = [\r\n",
    "    [542, 425, 321],\r\n",
    "    [514, 281],\r\n",
    "    [475, 386, 476],\r\n",
    "    [317, 391],\r\n",
    "    [288]\r\n",
    "]\r\n",
    "\r\n",
    "all_tracks_played = 0\r\n",
    "avg_position_pop, avg_position_user, avg_position_target = 0, 0, 0\r\n",
    "in_best_n_pop, in_best_n_user, in_best_n_target = 0, 0, 0\r\n",
    "\r\n",
    "for USERS in ALL_USERS:\r\n",
    "    tracks_played_in_future = get_played_tracks(USERS, sessions_test)\r\n",
    "    all_tracks_played += len(tracks_played_in_future)\r\n",
    "\r\n",
    "    for examle_track_id in tqdm(tracks_played_in_future):\r\n",
    "        evaluation_tracks = [examle_track_id]\r\n",
    "        evaluation_tracks.extend(find_random_n_track_ids(100))\r\n",
    "\r\n",
    "        ranked_songs_popularity = popularityModel.rank_tracks_for_users(\r\n",
    "            USERS, evaluation_tracks\r\n",
    "        )\r\n",
    "        ranked_songs_user_profile = userProfilemodel.rank_tracks_for_users(\r\n",
    "            USERS, evaluation_tracks\r\n",
    "        )\r\n",
    "        ranked_songs_target = targetModel.rank_tracks_for_users(\r\n",
    "            USERS, evaluation_tracks\r\n",
    "        )\r\n",
    "\r\n",
    "        avg_position_pop += ranked_songs_popularity.index(examle_track_id)\r\n",
    "        avg_position_user += ranked_songs_user_profile.index(examle_track_id)\r\n",
    "        avg_position_target += ranked_songs_target.index(examle_track_id)\r\n",
    "\r\n",
    "        if ranked_songs_popularity.index(examle_track_id) < N:\r\n",
    "            in_best_n_pop += 1\r\n",
    "\r\n",
    "        if ranked_songs_user_profile.index(examle_track_id) < N:\r\n",
    "            in_best_n_user += 1\r\n",
    "\r\n",
    "        if ranked_songs_target.index(examle_track_id) < N:\r\n",
    "            in_best_n_target += 1\r\n",
    "\r\n",
    "print(\"================= Popularity Model =================\")\r\n",
    "print(\"average position: \", round(avg_position_pop / all_tracks_played, 2))\r\n",
    "print(f\"in top {N}: {in_best_n_pop} times\")\r\n",
    "print(f\"recall@{N}: {round(in_best_n_pop/all_tracks_played * 100, 2)} %\")\r\n",
    "\r\n",
    "\r\n",
    "print(\"================ User Profile Model ================\")\r\n",
    "print(\"average position: \", round(avg_position_user / all_tracks_played, 2))\r\n",
    "print(f\"in top {N}: {in_best_n_user} times\")\r\n",
    "print(f\"recall@{N}: {round(in_best_n_user/all_tracks_played * 100, 2)} %\")\r\n",
    "\r\n",
    "\r\n",
    "print(\"=================== Target Model ===================\")\r\n",
    "print(\"average position: \", round(avg_position_target / all_tracks_played, 2))\r\n",
    "print(f\"in top {N}: {in_best_n_target} times\")\r\n",
    "print(f\"recall@{N}: {round(in_best_n_target/all_tracks_played * 100, 2)} %\")\r\n"
   ]
  }
 ],
 "metadata": {
  "kernelspec": {
   "display_name": "Python 3.10.4 64-bit",
   "name": "python3104jvsc74a57bd02be5faf79681da6f2a61fdfdd5405d65d042280f7fba6178067603e3a2925119"
  },
  "language_info": {
   "codemirror_mode": {
    "name": "ipython",
    "version": 3
   },
   "file_extension": ".py",
   "mimetype": "text/x-python",
   "name": "python",
   "nbconvert_exporter": "python",
   "pygments_lexer": "ipython3",
   "version": "3.10.4"
  },
  "metadata": {
   "interpreter": {
    "hash": "2be5faf79681da6f2a61fdfdd5405d65d042280f7fba6178067603e3a2925119"
   }
  },
  "orig_nbformat": 2
 },
 "nbformat": 4,
 "nbformat_minor": 2
}