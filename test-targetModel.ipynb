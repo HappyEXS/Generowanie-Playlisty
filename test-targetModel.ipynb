{
 "cells": [
  {
   "cell_type": "code",
   "execution_count": 1,
   "metadata": {},
   "outputs": [],
   "source": [
    "from models.targetModel import TargetModel\r\n",
    "from data.loadData import *\r\n",
    "from data.dataFunctions import (\r\n",
    "    get_played_songs_for_user_id,\r\n",
    "    get_songs_by_traks_ids,\r\n",
    "    get_played_tracks,\r\n",
    "    find_random_n_track_ids,\r\n",
    ")\r\n",
    "from sklearn.model_selection import train_test_split\r\n",
    "from tqdm import tqdm\r\n",
    "\r\n",
    "users = load_users()\r\n",
    "tracks = load_tracks()\r\n",
    "artists = load_artists()\r\n",
    "sessions = load_sessions()\r\n",
    "\r\n",
    "targetModel = TargetModel()\r\n",
    "targetModel.fit(users, tracks, artists, sessions)\r\n"
   ]
  },
  {
   "cell_type": "markdown",
   "metadata": {},
   "source": [
    "## Example 1"
   ]
  },
  {
   "cell_type": "code",
   "execution_count": 2,
   "metadata": {},
   "outputs": [
    {
     "data": {
      "text/html": "<div>\n<style scoped>\n    .dataframe tbody tr th:only-of-type {\n        vertical-align: middle;\n    }\n\n    .dataframe tbody tr th {\n        vertical-align: top;\n    }\n\n    .dataframe thead th {\n        text-align: right;\n    }\n</style>\n<table border=\"1\" class=\"dataframe\">\n  <thead>\n    <tr style=\"text-align: right;\">\n      <th></th>\n      <th>Title - Artist</th>\n    </tr>\n  </thead>\n  <tbody>\n    <tr>\n      <th>0</th>\n      <td>\"Astronaut In The Ocean\" - Masked Wolf</td>\n    </tr>\n    <tr>\n      <th>1</th>\n      <td>\"telepatía\" - Kali Uchis</td>\n    </tr>\n    <tr>\n      <th>2</th>\n      <td>\"Dynamite\" - BTS</td>\n    </tr>\n    <tr>\n      <th>3</th>\n      <td>\"911\" - Sech</td>\n    </tr>\n    <tr>\n      <th>4</th>\n      <td>\"Film out\" - BTS</td>\n    </tr>\n    <tr>\n      <th>5</th>\n      <td>\"drivers license\" - Olivia Rodrigo</td>\n    </tr>\n    <tr>\n      <th>6</th>\n      <td>\"WITHOUT YOU\" - The Kid LAROI</td>\n    </tr>\n    <tr>\n      <th>7</th>\n      <td>\"Blinding Lights\" - The Weeknd</td>\n    </tr>\n    <tr>\n      <th>8</th>\n      <td>\"We're Good\" - Dua Lipa</td>\n    </tr>\n    <tr>\n      <th>9</th>\n      <td>\"TE MUDASTE\" - Bad Bunny</td>\n    </tr>\n    <tr>\n      <th>10</th>\n      <td>\"Christian Dior\" - Jhay Cortez</td>\n    </tr>\n    <tr>\n      <th>11</th>\n      <td>\"Streets\" - Doja Cat</td>\n    </tr>\n    <tr>\n      <th>12</th>\n      <td>\"BICHOTA\" - KAROL G</td>\n    </tr>\n    <tr>\n      <th>13</th>\n      <td>\"Ponte Pa' Mi\" - Justin Quiles</td>\n    </tr>\n    <tr>\n      <th>14</th>\n      <td>\"Blue &amp; Grey\" - BTS</td>\n    </tr>\n    <tr>\n      <th>15</th>\n      <td>\"Anyone\" - Justin Bieber</td>\n    </tr>\n    <tr>\n      <th>16</th>\n      <td>\"Stay\" - BTS</td>\n    </tr>\n    <tr>\n      <th>17</th>\n      <td>\"Heartbreak Anniversary\" - Giveon</td>\n    </tr>\n    <tr>\n      <th>18</th>\n      <td>\"The Business\" - Tiësto</td>\n    </tr>\n    <tr>\n      <th>19</th>\n      <td>\"Quiéreme Mientras Se Pueda\" - Manuel Turizo</td>\n    </tr>\n  </tbody>\n</table>\n</div>",
      "text/plain": "                                  Title - Artist\n0         \"Astronaut In The Ocean\" - Masked Wolf\n1                       \"telepatía\" - Kali Uchis\n2                               \"Dynamite\" - BTS\n3                                   \"911\" - Sech\n4                               \"Film out\" - BTS\n5             \"drivers license\" - Olivia Rodrigo\n6                  \"WITHOUT YOU\" - The Kid LAROI\n7                 \"Blinding Lights\" - The Weeknd\n8                        \"We're Good\" - Dua Lipa\n9                       \"TE MUDASTE\" - Bad Bunny\n10                \"Christian Dior\" - Jhay Cortez\n11                          \"Streets\" - Doja Cat\n12                           \"BICHOTA\" - KAROL G\n13                \"Ponte Pa' Mi\" - Justin Quiles\n14                           \"Blue & Grey\" - BTS\n15                      \"Anyone\" - Justin Bieber\n16                                  \"Stay\" - BTS\n17             \"Heartbreak Anniversary\" - Giveon\n18                       \"The Business\" - Tiësto\n19  \"Quiéreme Mientras Se Pueda\" - Manuel Turizo"
     },
     "execution_count": 2,
     "metadata": {},
     "output_type": "execute_result"
    }
   ],
   "source": [
    "USERS = [333]\r\n",
    "\r\n",
    "songs = targetModel.getPlaylist(USERS, 20)\r\n",
    "\r\n",
    "songs_names = get_songs_by_traks_ids(songs)\r\n",
    "pd.DataFrame(data=songs_names, columns=[\"Title - Artist\"])\r\n"
   ]
  },
  {
   "cell_type": "markdown",
   "metadata": {},
   "source": [
    "## Example 2"
   ]
  },
  {
   "cell_type": "code",
   "execution_count": 3,
   "metadata": {},
   "outputs": [
    {
     "data": {
      "text/html": "<div>\n<style scoped>\n    .dataframe tbody tr th:only-of-type {\n        vertical-align: middle;\n    }\n\n    .dataframe tbody tr th {\n        vertical-align: top;\n    }\n\n    .dataframe thead th {\n        text-align: right;\n    }\n</style>\n<table border=\"1\" class=\"dataframe\">\n  <thead>\n    <tr style=\"text-align: right;\">\n      <th></th>\n      <th>Title - Artist</th>\n    </tr>\n  </thead>\n  <tbody>\n    <tr>\n      <th>0</th>\n      <td>\"Astronaut In The Ocean\" - Masked Wolf</td>\n    </tr>\n    <tr>\n      <th>1</th>\n      <td>\"telepatía\" - Kali Uchis</td>\n    </tr>\n    <tr>\n      <th>2</th>\n      <td>\"Blinding Lights\" - The Weeknd</td>\n    </tr>\n    <tr>\n      <th>3</th>\n      <td>\"drivers license\" - Olivia Rodrigo</td>\n    </tr>\n    <tr>\n      <th>4</th>\n      <td>\"We're Good\" - Dua Lipa</td>\n    </tr>\n    <tr>\n      <th>5</th>\n      <td>\"Anyone\" - Justin Bieber</td>\n    </tr>\n    <tr>\n      <th>6</th>\n      <td>\"WITHOUT YOU\" - The Kid LAROI</td>\n    </tr>\n    <tr>\n      <th>7</th>\n      <td>\"Streets\" - Doja Cat</td>\n    </tr>\n    <tr>\n      <th>8</th>\n      <td>\"911\" - Sech</td>\n    </tr>\n    <tr>\n      <th>9</th>\n      <td>\"Do I Wanna Know?\" - Arctic Monkeys</td>\n    </tr>\n  </tbody>\n</table>\n</div>",
      "text/plain": "                           Title - Artist\n0  \"Astronaut In The Ocean\" - Masked Wolf\n1                \"telepatía\" - Kali Uchis\n2          \"Blinding Lights\" - The Weeknd\n3      \"drivers license\" - Olivia Rodrigo\n4                 \"We're Good\" - Dua Lipa\n5                \"Anyone\" - Justin Bieber\n6           \"WITHOUT YOU\" - The Kid LAROI\n7                    \"Streets\" - Doja Cat\n8                            \"911\" - Sech\n9     \"Do I Wanna Know?\" - Arctic Monkeys"
     },
     "execution_count": 3,
     "metadata": {},
     "output_type": "execute_result"
    }
   ],
   "source": [
    "USERS = [444, 445, 446, 447]\r\n",
    "\r\n",
    "songs = targetModel.getPlaylist(USERS)\r\n",
    "\r\n",
    "songs_names = get_songs_by_traks_ids(songs)\r\n",
    "pd.DataFrame(data=songs_names, columns=[\"Title - Artist\"])\r\n"
   ]
  },
  {
   "cell_type": "markdown",
   "metadata": {},
   "source": [
    "## Example 3"
   ]
  },
  {
   "cell_type": "code",
   "execution_count": 4,
   "metadata": {},
   "outputs": [
    {
     "data": {
      "text/html": "<div>\n<style scoped>\n    .dataframe tbody tr th:only-of-type {\n        vertical-align: middle;\n    }\n\n    .dataframe tbody tr th {\n        vertical-align: top;\n    }\n\n    .dataframe thead th {\n        text-align: right;\n    }\n</style>\n<table border=\"1\" class=\"dataframe\">\n  <thead>\n    <tr style=\"text-align: right;\">\n      <th></th>\n      <th>Title - Artist</th>\n      <th>popularity</th>\n      <th>distance</th>\n    </tr>\n  </thead>\n  <tbody>\n    <tr>\n      <th>0</th>\n      <td>\"Astronaut In The Ocean\" - Masked Wolf</td>\n      <td>97.993750</td>\n      <td>97.047235</td>\n    </tr>\n    <tr>\n      <th>1</th>\n      <td>\"telepatía\" - Kali Uchis</td>\n      <td>96.990625</td>\n      <td>92.931090</td>\n    </tr>\n    <tr>\n      <th>2</th>\n      <td>\"We're Good\" - Dua Lipa</td>\n      <td>91.253125</td>\n      <td>96.358383</td>\n    </tr>\n    <tr>\n      <th>3</th>\n      <td>\"WITHOUT YOU\" - The Kid LAROI</td>\n      <td>93.981250</td>\n      <td>93.091102</td>\n    </tr>\n    <tr>\n      <th>4</th>\n      <td>\"Blinding Lights\" - The Weeknd</td>\n      <td>95.987500</td>\n      <td>90.869914</td>\n    </tr>\n    <tr>\n      <th>5</th>\n      <td>\"drivers license\" - Olivia Rodrigo</td>\n      <td>98.996875</td>\n      <td>87.699499</td>\n    </tr>\n    <tr>\n      <th>6</th>\n      <td>\"Streets\" - Doja Cat</td>\n      <td>94.168750</td>\n      <td>92.042186</td>\n    </tr>\n    <tr>\n      <th>7</th>\n      <td>\"Anyone\" - Justin Bieber</td>\n      <td>89.968750</td>\n      <td>96.057978</td>\n    </tr>\n    <tr>\n      <th>8</th>\n      <td>\"911\" - Sech</td>\n      <td>90.971875</td>\n      <td>94.298630</td>\n    </tr>\n    <tr>\n      <th>9</th>\n      <td>\"Dynamite\" - BTS</td>\n      <td>90.971875</td>\n      <td>94.183608</td>\n    </tr>\n    <tr>\n      <th>10</th>\n      <td>\"Whoopty\" - CJ</td>\n      <td>88.965625</td>\n      <td>95.764978</td>\n    </tr>\n    <tr>\n      <th>11</th>\n      <td>\"34+35\" - Ariana Grande</td>\n      <td>90.971875</td>\n      <td>93.738330</td>\n    </tr>\n    <tr>\n      <th>12</th>\n      <td>\"The Business\" - Tiësto</td>\n      <td>95.140625</td>\n      <td>89.488988</td>\n    </tr>\n    <tr>\n      <th>13</th>\n      <td>\"Heartbreak Anniversary\" - Giveon</td>\n      <td>94.168750</td>\n      <td>90.432262</td>\n    </tr>\n    <tr>\n      <th>14</th>\n      <td>\"Do I Wanna Know?\" - Arctic Monkeys</td>\n      <td>86.959375</td>\n      <td>97.507164</td>\n    </tr>\n    <tr>\n      <th>15</th>\n      <td>\"Golden\" - Harry Styles</td>\n      <td>87.962500</td>\n      <td>96.262318</td>\n    </tr>\n    <tr>\n      <th>16</th>\n      <td>\"Hold On\" - Justin Bieber</td>\n      <td>91.975000</td>\n      <td>91.986645</td>\n    </tr>\n    <tr>\n      <th>17</th>\n      <td>\"Batom de Cereja - Ao Vivo\" - Israel &amp; Rodolffo</td>\n      <td>88.965625</td>\n      <td>94.972726</td>\n    </tr>\n    <tr>\n      <th>18</th>\n      <td>\"Goosebumps\" - HVME</td>\n      <td>88.965625</td>\n      <td>94.815808</td>\n    </tr>\n    <tr>\n      <th>19</th>\n      <td>\"My Head &amp; My Heart\" - Ava Max</td>\n      <td>90.281250</td>\n      <td>93.255568</td>\n    </tr>\n  </tbody>\n</table>\n</div>",
      "text/plain": "                                     Title - Artist  popularity   distance\n0            \"Astronaut In The Ocean\" - Masked Wolf   97.993750  97.047235\n1                          \"telepatía\" - Kali Uchis   96.990625  92.931090\n2                           \"We're Good\" - Dua Lipa   91.253125  96.358383\n3                     \"WITHOUT YOU\" - The Kid LAROI   93.981250  93.091102\n4                    \"Blinding Lights\" - The Weeknd   95.987500  90.869914\n5                \"drivers license\" - Olivia Rodrigo   98.996875  87.699499\n6                              \"Streets\" - Doja Cat   94.168750  92.042186\n7                          \"Anyone\" - Justin Bieber   89.968750  96.057978\n8                                      \"911\" - Sech   90.971875  94.298630\n9                                  \"Dynamite\" - BTS   90.971875  94.183608\n10                                   \"Whoopty\" - CJ   88.965625  95.764978\n11                          \"34+35\" - Ariana Grande   90.971875  93.738330\n12                          \"The Business\" - Tiësto   95.140625  89.488988\n13                \"Heartbreak Anniversary\" - Giveon   94.168750  90.432262\n14              \"Do I Wanna Know?\" - Arctic Monkeys   86.959375  97.507164\n15                          \"Golden\" - Harry Styles   87.962500  96.262318\n16                        \"Hold On\" - Justin Bieber   91.975000  91.986645\n17  \"Batom de Cereja - Ao Vivo\" - Israel & Rodolffo   88.965625  94.972726\n18                              \"Goosebumps\" - HVME   88.965625  94.815808\n19                   \"My Head & My Heart\" - Ava Max   90.281250  93.255568"
     },
     "execution_count": 4,
     "metadata": {},
     "output_type": "execute_result"
    }
   ],
   "source": [
    "USERS = [321, 456, 123, 234]\r\n",
    "\r\n",
    "songs = targetModel.getPlaylist_with_ranks(USERS, 20)\r\n",
    "\r\n",
    "song_ids = [x[\"id\"] for x in songs]\r\n",
    "songs_names = get_songs_by_traks_ids(song_ids)\r\n",
    "names_with_dsitance = [\r\n",
    "    (songs_names[i], songs[i][\"popularity\"], songs[i][\"distance\"])\r\n",
    "    for i in range(len(song_ids))\r\n",
    "]\r\n",
    "pd.DataFrame(\r\n",
    "    data=names_with_dsitance,\r\n",
    "    columns=[\"Title - Artist\", \"popularity\", \"distance\"],\r\n",
    ")\r\n"
   ]
  }
 ],
 "metadata": {
  "kernelspec": {
   "display_name": "Python 3.10.4 64-bit",
   "name": "python3104jvsc74a57bd02be5faf79681da6f2a61fdfdd5405d65d042280f7fba6178067603e3a2925119"
  },
  "language_info": {
   "codemirror_mode": {
    "name": "ipython",
    "version": 3
   },
   "file_extension": ".py",
   "mimetype": "text/x-python",
   "name": "python",
   "nbconvert_exporter": "python",
   "pygments_lexer": "ipython3",
   "version": "3.10.4"
  },
  "metadata": {
   "interpreter": {
    "hash": "2be5faf79681da6f2a61fdfdd5405d65d042280f7fba6178067603e3a2925119"
   }
  },
  "orig_nbformat": 2
 },
 "nbformat": 4,
 "nbformat_minor": 2
}